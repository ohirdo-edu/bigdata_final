{
 "cells": [
  {
   "cell_type": "code",
   "execution_count": 1,
   "id": "bc6948d7-c6eb-4e84-b22b-569b01adf482",
   "metadata": {},
   "outputs": [],
   "source": [
    "import pandas as pd\n",
    "\n",
    "from pyspark.sql import SparkSession\n",
    "import pyspark.sql.functions as F\n",
    "\n",
    "import requests\n",
    "import os\n",
    "import tqdm.notebook"
   ]
  },
  {
   "cell_type": "code",
   "execution_count": 2,
   "id": "d502f2bf-f786-4082-b04b-55b0660463ca",
   "metadata": {},
   "outputs": [],
   "source": [
    "MONTHS = [7, 8, 9] # місяці 2023 року, які будемо аналізувати"
   ]
  },
  {
   "cell_type": "markdown",
   "id": "bd40026d-ad2b-42ad-ba1e-5f4e4055dd25",
   "metadata": {},
   "source": [
    "## Завантажимо датасет"
   ]
  },
  {
   "cell_type": "code",
   "execution_count": 3,
   "id": "7004e51b-55a5-4ed1-91ef-40e0fd365ac4",
   "metadata": {},
   "outputs": [
    {
     "data": {
      "application/vnd.jupyter.widget-view+json": {
       "model_id": "0285c0d6ee244923913991b368fdfc03",
       "version_major": 2,
       "version_minor": 0
      },
      "text/plain": [
       "  0%|          | 0/3 [00:00<?, ?it/s]"
      ]
     },
     "metadata": {},
     "output_type": "display_data"
    }
   ],
   "source": [
    "for month in tqdm.notebook.tqdm(MONTHS):\n",
    "    file_name = f'fhvhv_tripdata_2023-{month:02}.parquet'\n",
    "    \n",
    "    if not os.path.exists(file_name):\n",
    "        url = f'https://d37ci6vzurychx.cloudfront.net/trip-data/{file_name}'\n",
    "        r = requests.get(url, allow_redirects=True, stream=True)\n",
    "\n",
    "        file_size = int(r.headers.get('Content-Length', 0))\n",
    "        \n",
    "        temp_file_name = f'{file_name}.tmp'\n",
    "        chunk_size=10 * 1024\n",
    "\n",
    "        progress_bar = tqdm.notebook.tqdm(total=file_size, unit='iB', unit_scale=True)\n",
    "\n",
    "        with open(temp_file_name, 'wb') as f:\n",
    "            for chunk in r.iter_content(chunk_size=chunk_size):\n",
    "                progress_bar.update(len(chunk))\n",
    "                f.write(chunk)\n",
    "        os.rename(temp_file_name, file_name)"
   ]
  },
  {
   "cell_type": "markdown",
   "id": "ed69da3d-4166-480b-a8e2-87292125a86c",
   "metadata": {},
   "source": [
    "## Створимо датафрейм із файлів датасету та поглянемо на колонки та їхні типи"
   ]
  },
  {
   "cell_type": "code",
   "execution_count": 4,
   "id": "09ef6f62-84e6-4920-98a7-a5621fef8d05",
   "metadata": {},
   "outputs": [],
   "source": [
    "spark = SparkSession.builder.getOrCreate()"
   ]
  },
  {
   "cell_type": "code",
   "execution_count": 5,
   "id": "7ddfe2ad-faa1-4a5e-9871-c1e36ed1de70",
   "metadata": {},
   "outputs": [],
   "source": [
    "df = spark.read.parquet(*[f'fhvhv_tripdata_2023-{month:02}.parquet' for month in MONTHS])"
   ]
  },
  {
   "cell_type": "code",
   "execution_count": 6,
   "id": "f95fff99-c1b6-48b0-8b82-33e6ebe99165",
   "metadata": {},
   "outputs": [
    {
     "name": "stdout",
     "output_type": "stream",
     "text": [
      "+-----------------+--------------------+--------------------+-------------------+-------------------+-------------------+-------------------+------------+------------+----------+---------+-------------------+-----+----+---------+--------------------+-----------+----+----------+-------------------+-----------------+------------------+----------------+--------------+\n",
      "|hvfhs_license_num|dispatching_base_num|originating_base_num|   request_datetime|  on_scene_datetime|    pickup_datetime|   dropoff_datetime|PULocationID|DOLocationID|trip_miles|trip_time|base_passenger_fare|tolls| bcf|sales_tax|congestion_surcharge|airport_fee|tips|driver_pay|shared_request_flag|shared_match_flag|access_a_ride_flag|wav_request_flag|wav_match_flag|\n",
      "+-----------------+--------------------+--------------------+-------------------+-------------------+-------------------+-------------------+------------+------------+----------+---------+-------------------+-----+----+---------+--------------------+-----------+----+----------+-------------------+-----------------+------------------+----------------+--------------+\n",
      "|           HV0003|              B03404|              B03404|2023-07-01 00:04:21|2023-07-01 00:07:59|2023-07-01 00:08:30|2023-07-01 00:33:33|          72|          26|      4.79|     1503|              22.34|  0.0|0.61|     1.98|                 0.0|        0.0| 0.0|     20.42|                  N|                N|                  |               N|             N|\n",
      "|           HV0003|              B03404|              B03404|2023-07-01 00:40:25|2023-07-01 00:40:35|2023-07-01 00:42:10|2023-07-01 01:08:06|          26|          37|       6.4|     1556|              25.83|  0.0|0.71|     2.29|                 0.0|        0.0| 0.0|     23.03|                  N|                N|                  |               N|             N|\n",
      "|           HV0003|              B03404|              B03404|2023-07-01 00:20:31|2023-07-01 00:24:05|2023-07-01 00:25:00|2023-07-01 00:42:38|         263|         232|      5.71|     1058|              26.51|  0.0|0.73|     2.35|                2.75|        0.0|6.46|     18.61|                  N|                N|                  |               N|             N|\n",
      "|           HV0003|              B03404|              B03404|2023-07-01 00:42:50|2023-07-01 00:47:37|2023-07-01 00:48:57|2023-07-01 00:57:04|          79|         233|      1.75|      487|              16.32|  0.0|0.45|     1.45|                2.75|        0.0| 0.0|      8.13|                  N|                N|                  |               N|             N|\n",
      "|           HV0005|              B03406|                NULL|2023-07-01 00:00:17|               NULL|2023-07-01 00:05:35|2023-07-01 00:36:07|          88|         237|     7.218|     1832|              83.97|  0.0|2.31|     7.45|                2.75|        0.0| 0.0|     59.05|                  N|                N|                 N|               N|             N|\n",
      "+-----------------+--------------------+--------------------+-------------------+-------------------+-------------------+-------------------+------------+------------+----------+---------+-------------------+-----+----+---------+--------------------+-----------+----+----------+-------------------+-----------------+------------------+----------------+--------------+\n",
      "only showing top 5 rows\n",
      "\n"
     ]
    }
   ],
   "source": [
    "df.show(5)"
   ]
  },
  {
   "cell_type": "code",
   "execution_count": 7,
   "id": "3bba6e08-ce81-42a4-b559-4114495863cd",
   "metadata": {},
   "outputs": [
    {
     "name": "stdout",
     "output_type": "stream",
     "text": [
      "root\n",
      " |-- hvfhs_license_num: string (nullable = true)\n",
      " |-- dispatching_base_num: string (nullable = true)\n",
      " |-- originating_base_num: string (nullable = true)\n",
      " |-- request_datetime: timestamp_ntz (nullable = true)\n",
      " |-- on_scene_datetime: timestamp_ntz (nullable = true)\n",
      " |-- pickup_datetime: timestamp_ntz (nullable = true)\n",
      " |-- dropoff_datetime: timestamp_ntz (nullable = true)\n",
      " |-- PULocationID: integer (nullable = true)\n",
      " |-- DOLocationID: integer (nullable = true)\n",
      " |-- trip_miles: double (nullable = true)\n",
      " |-- trip_time: long (nullable = true)\n",
      " |-- base_passenger_fare: double (nullable = true)\n",
      " |-- tolls: double (nullable = true)\n",
      " |-- bcf: double (nullable = true)\n",
      " |-- sales_tax: double (nullable = true)\n",
      " |-- congestion_surcharge: double (nullable = true)\n",
      " |-- airport_fee: double (nullable = true)\n",
      " |-- tips: double (nullable = true)\n",
      " |-- driver_pay: double (nullable = true)\n",
      " |-- shared_request_flag: string (nullable = true)\n",
      " |-- shared_match_flag: string (nullable = true)\n",
      " |-- access_a_ride_flag: string (nullable = true)\n",
      " |-- wav_request_flag: string (nullable = true)\n",
      " |-- wav_match_flag: string (nullable = true)\n",
      "\n"
     ]
    }
   ],
   "source": [
    "df.printSchema()"
   ]
  },
  {
   "cell_type": "markdown",
   "id": "6f2f8881-3055-48ef-903e-8fb13f896e2a",
   "metadata": {},
   "source": [
    "## Також поглянемо на додаткову таблицю із назвами районів"
   ]
  },
  {
   "cell_type": "code",
   "execution_count": 8,
   "id": "66c6c857-fc4e-48fa-a11f-575325334d4c",
   "metadata": {},
   "outputs": [],
   "source": [
    "zone_lookup = spark.read.csv('taxi+_zone_lookup.csv', header=True)"
   ]
  },
  {
   "cell_type": "code",
   "execution_count": 9,
   "id": "79f9631f-e928-484b-88da-a1074459cb95",
   "metadata": {},
   "outputs": [
    {
     "name": "stdout",
     "output_type": "stream",
     "text": [
      "+----------+-------------+--------------------+------------+\n",
      "|LocationID|      Borough|                Zone|service_zone|\n",
      "+----------+-------------+--------------------+------------+\n",
      "|         1|          EWR|      Newark Airport|         EWR|\n",
      "|         2|       Queens|         Jamaica Bay|   Boro Zone|\n",
      "|         3|        Bronx|Allerton/Pelham G...|   Boro Zone|\n",
      "|         4|    Manhattan|       Alphabet City| Yellow Zone|\n",
      "|         5|Staten Island|       Arden Heights|   Boro Zone|\n",
      "|         6|Staten Island|Arrochar/Fort Wad...|   Boro Zone|\n",
      "|         7|       Queens|             Astoria|   Boro Zone|\n",
      "|         8|       Queens|        Astoria Park|   Boro Zone|\n",
      "|         9|       Queens|          Auburndale|   Boro Zone|\n",
      "|        10|       Queens|        Baisley Park|   Boro Zone|\n",
      "+----------+-------------+--------------------+------------+\n",
      "only showing top 10 rows\n",
      "\n"
     ]
    }
   ],
   "source": [
    "zone_lookup.show(10)"
   ]
  },
  {
   "cell_type": "markdown",
   "id": "484f1a03-4a3f-4065-82d5-1a3e258a9271",
   "metadata": {},
   "source": [
    "## Виконаємо необхідні розрахунки для поставленої задачі.\n",
    "\n",
    "Алгоритм -- в коментаріях нижче."
   ]
  },
  {
   "cell_type": "code",
   "execution_count": 10,
   "id": "36407da3-9563-43b4-b49c-853a38e82a6b",
   "metadata": {},
   "outputs": [
    {
     "name": "stdout",
     "output_type": "stream",
     "text": [
      "+-------------------+-----+----+---------+--------------------+-----------+----+----------+\n",
      "|base_passenger_fare|tolls| bcf|sales_tax|congestion_surcharge|airport_fee|tips|driver_pay|\n",
      "+-------------------+-----+----+---------+--------------------+-----------+----+----------+\n",
      "|              22.34|  0.0|0.61|     1.98|                 0.0|        0.0| 0.0|     20.42|\n",
      "|              25.83|  0.0|0.71|     2.29|                 0.0|        0.0| 0.0|     23.03|\n",
      "|              26.51|  0.0|0.73|     2.35|                2.75|        0.0|6.46|     18.61|\n",
      "|              16.32|  0.0|0.45|     1.45|                2.75|        0.0| 0.0|      8.13|\n",
      "|              83.97|  0.0|2.31|     7.45|                2.75|        0.0| 0.0|     59.05|\n",
      "+-------------------+-----+----+---------+--------------------+-----------+----+----------+\n",
      "only showing top 5 rows\n",
      "\n"
     ]
    }
   ],
   "source": [
    "df.select('base_passenger_fare', 'tolls', 'bcf', 'sales_tax',\n",
    "          'congestion_surcharge', 'airport_fee', 'tips', 'driver_pay').show(5)"
   ]
  },
  {
   "cell_type": "code",
   "execution_count": 11,
   "id": "63882868-9bcd-4b5f-b20a-a5568c9e3fb9",
   "metadata": {},
   "outputs": [
    {
     "name": "stdout",
     "output_type": "stream",
     "text": [
      "+----------------------------+-------------------+\n",
      "|Zone                        |tip_to_pay_ratio   |\n",
      "+----------------------------+-------------------+\n",
      "|Newark Airport              |0.1787984558840526 |\n",
      "|Windsor Terrace             |0.06491645753500011|\n",
      "|LaGuardia Airport           |0.06153435664089218|\n",
      "|Green-Wood Cemetery         |0.06119669752620329|\n",
      "|Columbia Street             |0.05657467526480542|\n",
      "|Battery Park                |0.05598614774837693|\n",
      "|Carroll Gardens             |0.05531883061902894|\n",
      "|Flushing Meadows-Corona Park|0.05524631901946194|\n",
      "|Central Park                |0.05452574305293669|\n",
      "|Upper West Side South       |0.05363349731024332|\n",
      "|Park Slope                  |0.05353460264887645|\n",
      "|Gowanus                     |0.0532265609234798 |\n",
      "|Cobble Hill                 |0.0527557379093849 |\n",
      "|Times Sq/Theatre District   |0.05249115469712333|\n",
      "|Prospect Heights            |0.0500361889189264 |\n",
      "|Midtown North               |0.04951462031414925|\n",
      "|Midtown Center              |0.04934937556958582|\n",
      "|Lincoln Square East         |0.04925840777707801|\n",
      "|Midtown East                |0.04887265520371931|\n",
      "|Upper West Side North       |0.048614173684102  |\n",
      "+----------------------------+-------------------+\n",
      "only showing top 20 rows\n",
      "\n"
     ]
    }
   ],
   "source": [
    "(\n",
    "    df\n",
    "\n",
    "    # Додаємо всі види стягнень, які пасажир заплатив за поїздку у колонку \"passenger_pay\".\n",
    "    .withColumn(\n",
    "        'passenger_pay',\n",
    "        sum(F.col(c) for c in [\n",
    "            'base_passenger_fare', 'tolls', 'bcf', 'sales_tax',\n",
    "            'congestion_surcharge', 'airport_fee', 'tips'\n",
    "        ])\n",
    "    )\n",
    "\n",
    "    # Залишаємо лише потрібні колонки, необхідні для нашої задачі.\n",
    "    .select('PULocationID', 'tips', 'passenger_pay')\n",
    "\n",
    "    # Для кожного району рахуємо середню складову чайових.\n",
    "    .groupby('PULocationID')\n",
    "    .agg((F.sum(F.col('tips')) / F.sum(F.col('passenger_pay'))).alias('tip_to_pay_ratio'))\n",
    "\n",
    "    # Підтягуємо назви районів із допоміжної таблиці\n",
    "    .join(zone_lookup, on=(df['PULocationID'] == zone_lookup['LocationID']), how='left')\n",
    "\n",
    "    # Залишаємо лише назву району та відсоток чайових.\n",
    "    .select('Zone', 'tip_to_pay_ratio')\n",
    "\n",
    "    # Сортуємо за відсотком чайових.\n",
    "    .orderBy(F.col('tip_to_pay_ratio').desc())\n",
    "\n",
    "    # Показуємо райони з найвищим відсотком чайових.\n",
    "    .show(truncate=False)\n",
    ")"
   ]
  }
 ],
 "metadata": {
  "kernelspec": {
   "display_name": "Python 3 (ipykernel)",
   "language": "python",
   "name": "python3"
  },
  "language_info": {
   "codemirror_mode": {
    "name": "ipython",
    "version": 3
   },
   "file_extension": ".py",
   "mimetype": "text/x-python",
   "name": "python",
   "nbconvert_exporter": "python",
   "pygments_lexer": "ipython3",
   "version": "3.11.6"
  }
 },
 "nbformat": 4,
 "nbformat_minor": 5
}
